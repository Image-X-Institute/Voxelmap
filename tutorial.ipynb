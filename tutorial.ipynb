{
 "cells": [
  {
   "cell_type": "markdown",
   "id": "d350ac80",
   "metadata": {},
   "source": [
    "Welcome to Voxelmap!\n",
    "\n",
    "The first thing we'll do is train the neural network (Network A). We'll then test the network to see how it performs. After you've installed all the dependencies in the setup.cfg file, let's do some imports to get started. "
   ]
  },
  {
   "cell_type": "code",
   "execution_count": 1,
   "id": "e9acabbf",
   "metadata": {},
   "outputs": [
    {
     "name": "stderr",
     "output_type": "stream",
     "text": [
      "/usr/lib/python3/dist-packages/scipy/__init__.py:146: UserWarning: A NumPy version >=1.17.3 and <1.25.0 is required for this version of SciPy (detected version 1.26.2\n",
      "  warnings.warn(f\"A NumPy version >={np_minversion} and <{np_maxversion}\"\n"
     ]
    }
   ],
   "source": [
    "# imports\n",
    "import time\n",
    "import os\n",
    "import numpy as np\n",
    "from matplotlib import pyplot as plt\n",
    "from utilities import network_a, losses\n",
    "import torch\n",
    "from torch.utils.data import Dataset\n",
    "import torch.optim as optim"
   ]
  },
  {
   "cell_type": "markdown",
   "id": "1e4c370f",
   "metadata": {},
   "source": [
    "We recommend installing the example data at https://ses.library.usyd.edu.au/handle/2123/32282 and adding the unzipped 'data' folder to your present working directory. We'll then define our image directory as 'data/xcat/train' and keep the filename to use to save our weights and loss plots."
   ]
  },
  {
   "cell_type": "code",
   "execution_count": 8,
   "id": "2fc43d85",
   "metadata": {},
   "outputs": [],
   "source": [
    "# file name and image directory\n",
    "im_dir = 'data/xcat/train'\n",
    "expt_description = 'Network A'\n",
    "filename = 'train_a'"
   ]
  },
  {
   "cell_type": "markdown",
   "id": "009a69f8",
   "metadata": {},
   "source": [
    "Next we'll create a class called 'SupervisedDataset'. This will allow us to load the appropriate data onto the neural network for training. There are a few idiosyncrasies that we may wish to note. First, all the projection data ends in 'bin.npy' because they were originally created as binary files but were converted to .npy files for convience. The same goes for the volumes and DVFs, which end in 'mha.npy' for similar reasons. The source projection has a '06' in front because, in 4D-CTs the 6 respiratory bin corresponds with the peak-exhale phase. We name our projections 'phase_Proj_num', where phase is respiratory phase (i.e. '01', '02', ... '10') and num is the projection number (e.g. '00001'). For Networks D and E, where we train on the CoMBAT MRI data, the naming convention for slice pairs is 'phase_Slice_xc_ys' where x is the slice number along the coronal axis and y is the slice number along the sagittal axis.\n",
    "\n",
    "An abdominal mask is used later on in the loss function to force the neural network to optimise predictions within a specific region. The data are then reshaped for the specific dimensions expected for a PyTorch neural network. Right now we are also limited to image sizes that are powers of two (e.g. 128x128). Everything has been downsampled here to fit on the GPU."
   ]
  },
  {
   "cell_type": "code",
   "execution_count": 5,
   "id": "db2b5c72",
   "metadata": {},
   "outputs": [],
   "source": [
    "# set up training dataset class\n",
    "class SupervisedDataset(Dataset):\n",
    "    def __init__(self, im_dir=None, im_size=None):\n",
    "        self.im_dir = im_dir\n",
    "        self.im_size = im_size\n",
    "\n",
    "    def __len__(self):\n",
    "        return len([n for n in os.listdir(self.im_dir) if n.endswith('_bin.npy')])\n",
    "\n",
    "    def __getitem__(self, idx):\n",
    "        # Find target projection\n",
    "        proj_list = sorted([n for n in os.listdir(self.im_dir) if n.endswith('_bin.npy')])\n",
    "        target_file = proj_list[idx]\n",
    "        proj_name = os.path.join(self.im_dir, format(target_file))\n",
    "        target_proj = np.load(proj_name)\n",
    "        target_proj = (target_proj - np.min(target_proj)) / (np.max(target_proj) - np.min(target_proj))\n",
    "\n",
    "        # Find target DVF\n",
    "        vol_num = target_file[:2]\n",
    "        dvf_name = os.path.join(self.im_dir, format('sub_DVF_' + vol_num + '_mha.npy'))\n",
    "        target_dvf = np.load(dvf_name)\n",
    "\n",
    "        # Find source projection\n",
    "        source_file = '06_' + target_file[3:]\n",
    "        proj_name = os.path.join(self.im_dir, format(source_file))\n",
    "        source_proj = np.load(proj_name)\n",
    "        source_proj = (source_proj - np.min(source_proj)) / (np.max(source_proj) - np.min(source_proj))\n",
    "\n",
    "        # Find source volume\n",
    "        vol_name = os.path.join(self.im_dir, format('sub_CT_06_mha.npy'))\n",
    "        source_vol = np.load(vol_name)\n",
    "        source_vol = (source_vol - np.min(source_vol)) / (np.max(source_vol) - np.min(source_vol))\n",
    "\n",
    "        # Find source abdomen\n",
    "        vol_name = os.path.join(self.im_dir, format('sub_Abdomen_mha.npy'))\n",
    "        source_hull = np.load(vol_name)\n",
    "\n",
    "        # Reshape data\n",
    "        source_projections = np.zeros((1, self.im_size, self.im_size), dtype=np.float32)\n",
    "        source_projections[0, :, :] = np.asarray(source_proj)\n",
    "        target_projections = np.zeros((1, self.im_size, self.im_size), dtype=np.float32)\n",
    "        target_projections[0, :, :] = np.asarray(target_proj)\n",
    "\n",
    "        source_volumes = np.zeros((1, self.im_size, self.im_size, self.im_size), dtype=np.float32)\n",
    "        source_volumes[0, :, :, :] = np.asarray(source_vol)\n",
    "        source_abdomen = np.zeros((1, self.im_size, self.im_size, self.im_size), dtype=np.float32)\n",
    "        source_abdomen[0, :, :, :] = np.asarray(source_hull)\n",
    "\n",
    "        target_flow = np.zeros((3, self.im_size, self.im_size, self.im_size), dtype=np.float32)\n",
    "        target_flow[0, :, :, :] = target_dvf[:, :, :, 0]\n",
    "        target_flow[1, :, :, :] = target_dvf[:, :, :, 1]\n",
    "        target_flow[2, :, :, :] = target_dvf[:, :, :, 2]\n",
    "\n",
    "        data = {'source_projections': torch.from_numpy(source_projections),\n",
    "                'target_projections': torch.from_numpy(target_projections),\n",
    "                'source_volumes': torch.from_numpy(source_volumes),\n",
    "                'source_abdomen': torch.from_numpy(source_abdomen),\n",
    "                'target_flow': torch.from_numpy(target_flow)}\n",
    "        \n",
    "        return data"
   ]
  },
  {
   "cell_type": "markdown",
   "id": "3661be30",
   "metadata": {},
   "source": [
    "Let's visualise a projection, a volume and a DVF to make sure our dataloader is working properly."
   ]
  },
  {
   "cell_type": "code",
   "execution_count": 22,
   "id": "10e61b7e",
   "metadata": {},
   "outputs": [
    {
     "data": {
      "image/png": "[encoded data removed]",
      "text/plain": [
       "<Figure size 432x288 with 3 Axes>"
      ]
     },
     "metadata": {
      "needs_background": "light"
     },
     "output_type": "display_data"
    }
   ],
   "source": [
    "# Generate test loader\n",
    "batch_size = 1\n",
    "im_size = 128\n",
    "exampleset = SupervisedDataset(im_dir=im_dir, im_size=im_size)\n",
    "exampleloader = torch.utils.data.DataLoader(exampleset, batch_size=batch_size)\n",
    "data = next(iter(exampleloader))\n",
    "\n",
    "source_proj, target_proj, source_vol, source_abdomen, target_flow = data['source_projections'], \\\n",
    "                                                                                        data['target_projections'], \\\n",
    "                                                                                        data['source_volumes'], \\\n",
    "                                                                                        data['source_abdomen'], \\\n",
    "                                                                                        data['target_flow']\n",
    "# visualise projection, volume and DVF\n",
    "f = plt.figure()\n",
    "plt.subplot(1,3,1)\n",
    "source_proj = np.squeeze(source_proj)\n",
    "plt.imshow(source_proj, cmap='gray')\n",
    "plt.title('Source projection')\n",
    "\n",
    "plt.subplot(1,3,2)\n",
    "source_vol = np.squeeze(source_vol)\n",
    "plt.imshow(np.transpose(source_vol[:,:, int(source_vol.shape[2] / 2)]), cmap='gray')\n",
    "plt.title('Source volume')\n",
    "\n",
    "plt.subplot(1,3,3)\n",
    "target_flow = np.squeeze(target_flow)\n",
    "plt.imshow(np.flipud(np.transpose(target_flow[1,:,:, int(source_vol.shape[2] / 2)])), cmap='gray')\n",
    "plt.title('Target DVF')\n",
    "\n",
    "f.tight_layout()\n",
    "plt.show()"
   ]
  },
  {
   "cell_type": "markdown",
   "id": "bc96841a",
   "metadata": {},
   "source": [
    "Lookin' good! Now we will create training and validation datasets"
   ]
  },
  {
   "cell_type": "code",
   "execution_count": 23,
   "id": "40a6e45b",
   "metadata": {},
   "outputs": [],
   "source": [
    "# generate train/test split\n",
    "im_size = 128\n",
    "batch_size = 8\n",
    "dataset = SupervisedDataset(im_dir=im_dir, im_size=im_size)\n",
    "split = [int(len(dataset) * 0.9), int(len(dataset) * 0.1)]\n",
    "trainset, valset = torch.utils.data.dataset.random_split(dataset, split)\n",
    "trainloader = torch.utils.data.DataLoader(trainset, batch_size=batch_size, shuffle=True)\n",
    "valloader = torch.utils.data.DataLoader(valset, batch_size=batch_size, shuffle=True)"
   ]
  },
  {
   "cell_type": "markdown",
   "id": "6275257b",
   "metadata": {},
   "source": [
    "Network time! Let's set up a cuda implementation of the network, a loss function (good ol' MSE will do! but we're computing it within a thoracoabdominal mask) and an optimizer"
   ]
  },
  {
   "cell_type": "code",
   "execution_count": 24,
   "id": "3b541a20",
   "metadata": {},
   "outputs": [
    {
     "name": "stderr",
     "output_type": "stream",
     "text": [
      "/usr/lib/python3/dist-packages/torch/functional.py:504: UserWarning: torch.meshgrid: in an upcoming release, it will be required to pass the indexing argument. (Triggered internally at ./aten/src/ATen/native/TensorShape.cpp:3483.)\n",
      "  return _VF.meshgrid(tensors, **kwargs)  # type: ignore[attr-defined]\n"
     ]
    }
   ],
   "source": [
    "# set up network\n",
    "vxm_model = network_a.VxmDense(im_size, int_steps=10)\n",
    "device = torch.device(\"cuda:0\" if torch.cuda.is_available() else \"cpu\")\n",
    "vxm_model.to(device)\n",
    "\n",
    "# set loss function and optimizer\n",
    "flow_mask = losses.flow_mask()\n",
    "lr = 1e-5\n",
    "optimizer = optim.Adam(vxm_model.parameters(), lr=lr)"
   ]
  },
  {
   "cell_type": "markdown",
   "id": "cb7e0486",
   "metadata": {},
   "source": [
    "Are you ready? Next thing to do is to train the network :) We'll save the weights and a plot of the loss curves. We recommend training for 50 epochs, but let's just do 1 so we're not waiting forever. (Using a NVIDIA RTX A6000, 1 epoch takes about 8 minutes. Good time for two Tabata workouts?)"
   ]
  },
  {
   "cell_type": "code",
   "execution_count": 27,
   "id": "fe9a96eb",
   "metadata": {},
   "outputs": [
    {
     "name": "stdout",
     "output_type": "stream",
     "text": [
      "Training (on cuda:0)...\n",
      "Epoch: 1 | train loss: 0.0498 | val loss: 0.0258 | total time: 0 hours 8 minutes\n"
     ]
    },
    {
     "data": {
      "image/png": "[encoded data removed]",
      "text/plain": [
       "<Figure size 432x288 with 1 Axes>"
      ]
     },
     "metadata": {
      "needs_background": "light"
     },
     "output_type": "display_data"
    },
    {
     "name": "stdout",
     "output_type": "stream",
     "text": [
      "Finished training\n"
     ]
    }
   ],
   "source": [
    "# train\n",
    "print('Training (on ' + str(device) + ')...')\n",
    "tic = time.time()\n",
    "min_val_loss = float('inf')\n",
    "train_losses, val_losses = [], []\n",
    "epoch_num = 1 #50\n",
    "\n",
    "for epoch in range(1, epoch_num + 1):\n",
    "    train_loss = 0.0\n",
    "\n",
    "    for i, data in enumerate(trainloader, 0):\n",
    "        source_proj, target_proj, source_vol, source_abdomen, target_flow = data['source_projections'].to(device), \\\n",
    "                                                                            data['target_projections'].to(device), \\\n",
    "                                                                            data['source_volumes'].to(device), \\\n",
    "                                                                            data['source_abdomen'].to(device), \\\n",
    "                                                                            data['target_flow'].to(device)\n",
    "\n",
    "        # zero the parameter gradients\n",
    "        optimizer.zero_grad()\n",
    "\n",
    "        # forward + backward + optimize\n",
    "        _, predict_flow = vxm_model.forward(source_proj, target_proj, source_vol)\n",
    "        loss = flow_mask.loss(target_flow, predict_flow, source_abdomen)\n",
    "        train_loss += loss.item()\n",
    "        loss.backward()\n",
    "        optimizer.step()\n",
    "\n",
    "    # test and print every epoch\n",
    "    val_loss = 0.0\n",
    "    vxm_model.eval()\n",
    "    with torch.no_grad():\n",
    "        for j, valdata in enumerate(valloader, 0):\n",
    "            source_proj, target_proj, source_vol, source_abdomen, target_flow = data['source_projections'].to(device), \\\n",
    "                                                                                data['target_projections'].to(device), \\\n",
    "                                                                                data['source_volumes'].to(device), \\\n",
    "                                                                                data['source_abdomen'].to(device), \\\n",
    "                                                                                data['target_flow'].to(device)\n",
    "\n",
    "            _, predict_flow = vxm_model.forward(source_proj, target_proj, source_vol)\n",
    "            loss = flow_mask.loss(target_flow, predict_flow, source_abdomen)\n",
    "            val_loss += loss.item()\n",
    "\n",
    "    toc = time.time()\n",
    "    time_elapsed = (toc - tic) / 3600\n",
    "    hours = np.floor(time_elapsed)\n",
    "    minutes = (time_elapsed - hours) * 60\n",
    "\n",
    "    print('Epoch: %d | train loss: %.4f | val loss: %.4f | total time: %d hours %d minutes' %\n",
    "          (epoch, train_loss / len(trainset), val_loss / len(valset), hours, minutes))\n",
    "    train_losses.append(train_loss / len(trainset))\n",
    "    val_losses.append(val_loss / len(valset))\n",
    "\n",
    "    # save model with lowest validation cost\n",
    "    if val_loss < min_val_loss:\n",
    "        if not os.path.exists('weights'):\n",
    "            os.mkdir('weights')\n",
    "\n",
    "        PATH = 'weights/' + filename + '.pth'\n",
    "        torch.save(vxm_model.state_dict(), PATH)\n",
    "        min_val_loss = val_loss\n",
    "\n",
    "    # plot training\n",
    "    plt.figure()\n",
    "    plt.title(expt_description)\n",
    "    plt.plot(np.array(range(1, epoch + 1)), np.array(train_losses), 'b')\n",
    "    plt.plot(np.array(range(1, epoch + 1)), np.array(val_losses), 'r')\n",
    "    plt.legend(['Train', 'Validation'])\n",
    "    plt.ylabel('Loss')\n",
    "    plt.ticklabel_format(axis=\"y\", style=\"sci\", scilimits=(0, 0))\n",
    "    if minutes > 30:\n",
    "        hours += 1\n",
    "    plt.xlabel('Epochs' + ' (' + str(int(hours)) + ' hours)')\n",
    "    if not os.path.exists('plots'):\n",
    "        os.mkdir('plots')\n",
    "    plt.savefig('plots/' + filename + '.png')\n",
    "    plt.close()\n",
    "\n",
    "print('Finished training')\n",
    "torch.cuda.empty_cache()\n",
    "\n"
   ]
  },
  {
   "cell_type": "markdown",
   "id": "0262455e",
   "metadata": {},
   "source": [
    "That was an exciting moment...we now have a trained neural network. Last thing to do is test it! First, let's point to the weights we want and the directory for our unseen test data."
   ]
  },
  {
   "cell_type": "code",
   "execution_count": 38,
   "id": "62b87481",
   "metadata": {},
   "outputs": [],
   "source": [
    "# file names\n",
    "expt_file = 'train_a'\n",
    "test_file = 'data/xcat/test'"
   ]
  },
  {
   "cell_type": "markdown",
   "id": "6fe14606",
   "metadata": {},
   "source": [
    "Just as we did for training, we will create a new class that allows us to load our test data. This class looks a lot more involved because we have lots and lots of things to test: target overlap, OAR overlap, image similarity..."
   ]
  },
  {
   "cell_type": "code",
   "execution_count": 33,
   "id": "55597498",
   "metadata": {},
   "outputs": [],
   "source": [
    "# set up validation dataset class\n",
    "class validateXCATDataset(Dataset):\n",
    "\n",
    "    def __init__(self, im_dir=None, ref_dir=None, im_size=None):\n",
    "        self.im_dir = im_dir\n",
    "        self.ref_dir = ref_dir\n",
    "        self.im_size = im_size\n",
    "\n",
    "    def __len__(self):\n",
    "        return len([n for n in os.listdir(self.im_dir) if n.endswith('_bin.npy')])\n",
    "\n",
    "    def __getitem__(self, idx):\n",
    "        # Find target angle\n",
    "        angle = os.path.join(self.im_dir, format('Angles.csv'))\n",
    "        angle = np.genfromtxt(angle)\n",
    "        angle = angle[idx]\n",
    "\n",
    "        # Find target projection\n",
    "        proj_list = sorted([n for n in os.listdir(self.im_dir) if n.endswith('_bin.npy')])\n",
    "        target_file = proj_list[idx]\n",
    "        proj_name = os.path.join(self.im_dir, format(target_file))\n",
    "        target_proj = np.load(proj_name)\n",
    "\n",
    "        # Find source projection\n",
    "        proj_name = os.path.join(self.ref_dir, format('06_' + target_file))\n",
    "        source_proj = np.load(proj_name)\n",
    "\n",
    "        # Find source volume\n",
    "        vol_name = os.path.join(self.ref_dir, format('sub_CT_06_mha.npy'))\n",
    "        source_vol = np.load(vol_name)\n",
    "\n",
    "        # Find source contours\n",
    "        vol_name = os.path.join(self.ref_dir, format('Source_mha.npy'))\n",
    "        source_ptv = np.load(vol_name)\n",
    "\n",
    "        vol_name = os.path.join(self.ref_dir, format('Eso_source_mha.npy'))\n",
    "        source_eso = np.load(vol_name)\n",
    "\n",
    "        vol_name = os.path.join(self.ref_dir, format('Sto_source_mha.npy'))\n",
    "        source_sto = np.load(vol_name)\n",
    "\n",
    "        vol_name = os.path.join(self.ref_dir, format('LungL_source_mha.npy'))\n",
    "        source_lungL = np.load(vol_name)\n",
    "\n",
    "        vol_name = os.path.join(self.ref_dir, format('LungR_source_mha.npy'))\n",
    "        source_lungR = np.load(vol_name)\n",
    "\n",
    "        vol_name = os.path.join(self.ref_dir, format('SpCord_source_mha.npy'))\n",
    "        source_spcord = np.load(vol_name)\n",
    "\n",
    "        # Find target volume\n",
    "        vol_list = sorted([n for n in os.listdir(self.im_dir) if n.startswith('Vol') & n.endswith('_mha.npy')])\n",
    "        target_file = vol_list[idx]\n",
    "        vol_name = os.path.join(self.im_dir, format(target_file))\n",
    "        target_vol = np.load(vol_name)\n",
    "\n",
    "        # Find target contours\n",
    "        vol_name = os.path.join(self.im_dir, format('Target_' + target_file[5:10] + '_mha.npy'))\n",
    "        target_ptv = np.load(vol_name)\n",
    "\n",
    "        vol_name = os.path.join(self.im_dir, format('Eso_' + target_file[5:10] + '_mha.npy'))\n",
    "        target_eso = np.load(vol_name)\n",
    "\n",
    "        vol_name = os.path.join(self.im_dir, format('Sto_' + target_file[5:10] + '_mha.npy'))\n",
    "        target_sto = np.load(vol_name)\n",
    "\n",
    "        vol_name = os.path.join(self.im_dir, format('LungL_' + target_file[5:10] + '_mha.npy'))\n",
    "        target_lungL = np.load(vol_name)\n",
    "\n",
    "        vol_name = os.path.join(self.im_dir, format('LungR_' + target_file[5:10] + '_mha.npy'))\n",
    "        target_lungR = np.load(vol_name)\n",
    "\n",
    "        vol_name = os.path.join(self.im_dir, format('SpCord_' + target_file[5:10] + '_mha.npy'))\n",
    "        target_spcord = np.load(vol_name)\n",
    "\n",
    "        # Reshape data to correct format\n",
    "        source_projections = np.zeros((1, self.im_size, self.im_size), dtype=np.float32)\n",
    "        source_projections[0, :, :] = np.asarray(source_proj)\n",
    "\n",
    "        target_projections = np.zeros((1, self.im_size, self.im_size), dtype=np.float32)\n",
    "        target_projections[0, :, :] = np.asarray(target_proj)\n",
    "\n",
    "        source_volumes = np.zeros((1, self.im_size, self.im_size, self.im_size), dtype=np.float32)\n",
    "        source_volumes[0, :, :, :] = np.asarray(source_vol)\n",
    "\n",
    "        source_ptvs = np.zeros((1, self.im_size, self.im_size, self.im_size), dtype=np.float32)\n",
    "        source_ptvs[0, :, :, :] = np.asarray(source_ptv)\n",
    "\n",
    "        source_esophagus = np.zeros((1, self.im_size, self.im_size, self.im_size), dtype=np.float32)\n",
    "        source_esophagus[0, :, :, :] = np.asarray(source_eso)\n",
    "\n",
    "        source_stomach = np.zeros((1, self.im_size, self.im_size, self.im_size), dtype=np.float32)\n",
    "        source_stomach[0, :, :, :] = np.asarray(source_sto)\n",
    "\n",
    "        source_lungsR = np.zeros((1, self.im_size, self.im_size, self.im_size), dtype=np.float32)\n",
    "        source_lungsR[0, :, :, :] = np.asarray(source_lungR)\n",
    "\n",
    "        source_lungsL = np.zeros((1, self.im_size, self.im_size, self.im_size), dtype=np.float32)\n",
    "        source_lungsL[0, :, :, :] = np.asarray(source_lungL)\n",
    "\n",
    "        source_spinalcord = np.zeros((1, self.im_size, self.im_size, self.im_size), dtype=np.float32)\n",
    "        source_spinalcord[0, :, :, :] = np.asarray(source_spcord)\n",
    "\n",
    "        target_volumes = np.zeros((1, self.im_size, self.im_size, self.im_size), dtype=np.float32)\n",
    "        target_volumes[0, :, :, :] = np.asarray(target_vol)\n",
    "\n",
    "        target_ptvs = np.zeros((1, self.im_size, self.im_size, self.im_size), dtype=np.float32)\n",
    "        target_ptvs[0, :, :, :] = np.asarray(target_ptv)\n",
    "\n",
    "        target_esophagus = np.zeros((1, self.im_size, self.im_size, self.im_size), dtype=np.float32)\n",
    "        target_esophagus[0, :, :, :] = np.asarray(target_eso)\n",
    "\n",
    "        target_stomach = np.zeros((1, self.im_size, self.im_size, self.im_size), dtype=np.float32)\n",
    "        target_stomach[0, :, :, :] = np.asarray(target_sto)\n",
    "\n",
    "        target_lungsL = np.zeros((1, self.im_size, self.im_size, self.im_size), dtype=np.float32)\n",
    "        target_lungsL[0, :, :, :] = np.asarray(target_lungL)\n",
    "\n",
    "        target_lungsR = np.zeros((1, self.im_size, self.im_size, self.im_size), dtype=np.float32)\n",
    "        target_lungsR[0, :, :, :] = np.asarray(target_lungR)\n",
    "\n",
    "        target_spinalcord = np.zeros((1, self.im_size, self.im_size, self.im_size), dtype=np.float32)\n",
    "        target_spinalcord[0, :, :, :] = np.asarray(target_spcord)\n",
    "\n",
    "        data = {'source_projections': torch.from_numpy(source_projections),\n",
    "                'target_projections': torch.from_numpy(target_projections),\n",
    "                'source_volumes': torch.from_numpy(source_volumes),\n",
    "                'source_ptvs': torch.from_numpy(source_ptvs),\n",
    "                'source_esophagus': torch.from_numpy(source_esophagus),\n",
    "                'source_stomach': torch.from_numpy(source_stomach),\n",
    "                'source_lungsL': torch.from_numpy(source_lungsL),\n",
    "                'source_lungsR': torch.from_numpy(source_lungsR),\n",
    "                'source_spinalcord': torch.from_numpy(source_spinalcord),\n",
    "                'target_volumes': torch.from_numpy(target_volumes),\n",
    "                'target_ptvs': torch.from_numpy(target_ptvs),\n",
    "                'target_esophagus': torch.from_numpy(target_esophagus),\n",
    "                'target_stomach': torch.from_numpy(target_stomach),\n",
    "                'target_lungsL': torch.from_numpy(target_lungsL),\n",
    "                'target_lungsR': torch.from_numpy(target_lungsR),\n",
    "                'target_spinalcord': torch.from_numpy(target_spinalcord),\n",
    "                'angle': angle\n",
    "                }\n",
    "        \n",
    "        return data"
   ]
  },
  {
   "cell_type": "markdown",
   "id": "8bd64e69",
   "metadata": {},
   "source": [
    "Let's instantiate the validation dataset class, set up a cuda implementation, and load the pre-trained weights of our network. We'll also print the number of trainable parameters for our records."
   ]
  },
  {
   "cell_type": "code",
   "execution_count": 37,
   "id": "2de49152",
   "metadata": {},
   "outputs": [
    {
     "name": "stdout",
     "output_type": "stream",
     "text": [
      "Number of paramters: 10836973\n"
     ]
    }
   ],
   "source": [
    "# Generate test loader\n",
    "batch_size = 1\n",
    "im_size = 128\n",
    "dataset = validateXCATDataset(im_dir=test_file, ref_dir=test_file + '/source', im_size=im_size)\n",
    "testloader = torch.utils.data.DataLoader(dataset, batch_size=batch_size, shuffle=False)\n",
    "\n",
    "# Import network and set up cuda implementation\n",
    "vxm_model = network_a.VxmDense(im_size, int_steps=10)\n",
    "device = torch.device(\"cuda:0\" if torch.cuda.is_available() else \"cpu\")\n",
    "vxm_model.to(device)\n",
    "\n",
    "# Load weights\n",
    "PATH = 'weights/' + expt_file + '.pth'\n",
    "vxm_model.load_state_dict(torch.load(PATH, map_location=device))\n",
    "vxm_model.eval()\n",
    "\n",
    "print('Number of paramters: %d' % (sum(p.numel() for p in vxm_model.parameters() if p.requires_grad)))"
   ]
  },
  {
   "cell_type": "markdown",
   "id": "ee4765fa",
   "metadata": {},
   "source": [
    "Next we'll load a spatial transformation module. This will allow us to take in a predicted DVF and use it to warp reference images and volumes."
   ]
  },
  {
   "cell_type": "code",
   "execution_count": 35,
   "id": "6ee377b3",
   "metadata": {},
   "outputs": [
    {
     "data": {
      "text/plain": [
       "Network(\n",
       "  (transformer): SpatialTransformer()\n",
       ")"
      ]
     },
     "execution_count": 35,
     "metadata": {},
     "output_type": "execute_result"
    }
   ],
   "source": [
    "# Load transformer\n",
    "from utilities import spatialTransform\n",
    "transformer = spatialTransform.Network([im_size, im_size, im_size])\n",
    "transformer.to(device)"
   ]
  },
  {
   "cell_type": "markdown",
   "id": "8c263005",
   "metadata": {},
   "source": [
    "Let's load up some loss functions. Here we'll look at the difference in centroid positions, Dice similarity to the target and OAR contours, the Jacobian determinant of predicted DVFs as well as the structural similarity and peak signal-to-noise ratio of the predicted images (courtesy of the skimage.metrics library). We'll also create some empty lists to save these metrics"
   ]
  },
  {
   "cell_type": "code",
   "execution_count": 39,
   "id": "fdd46306",
   "metadata": {},
   "outputs": [],
   "source": [
    "# loss functions\n",
    "centroid_ptv = losses.centroid_ptv()\n",
    "dice = losses.dice()\n",
    "jacobian_determinant = losses.jacobian_determinant()\n",
    "from skimage.metrics import structural_similarity as ssim\n",
    "from skimage.metrics import peak_signal_noise_ratio as psnr\n",
    "\n",
    "# initialise target tracking metrics\n",
    "tar_lr, tar_si, tar_ap, pred_lr, pred_si, pred_ap, test_dice, test_detJ, test_angles = [], [], [], [], [], [], [], [], []\n",
    "\n",
    "# initialise OAR tracking metrics\n",
    "stomach_dice, esophagus_dice, lungL_dice, lungR_dice, spinalcord_dice, = [], [], [], [], []\n",
    "\n",
    "# initialise image metrics\n",
    "test_mse, test_ssim, test_psnr = [], [], []"
   ]
  },
  {
   "cell_type": "markdown",
   "id": "8e1fcb46",
   "metadata": {},
   "source": [
    "Ok, let's iterate over our unseen test data, recording all the metrics we want."
   ]
  },
  {
   "cell_type": "code",
   "execution_count": 40,
   "id": "8e8b107a",
   "metadata": {},
   "outputs": [
    {
     "name": "stdout",
     "output_type": "stream",
     "text": [
      "Testing...\n"
     ]
    },
    {
     "ename": "FileNotFoundError",
     "evalue": "[Errno 2] No such file or directory: 'data/xcat/test/Target_0001__mha.npy'",
     "output_type": "error",
     "traceback": [
      "\u001b[0;31m---------------------------------------------------------------------------\u001b[0m",
      "\u001b[0;31mFileNotFoundError\u001b[0m                         Traceback (most recent call last)",
      "\u001b[0;32m/tmp/ipykernel_215128/419645941.py\u001b[0m in \u001b[0;36m<module>\u001b[0;34m\u001b[0m\n\u001b[1;32m      1\u001b[0m \u001b[0mprint\u001b[0m\u001b[0;34m(\u001b[0m\u001b[0;34m'Testing...'\u001b[0m\u001b[0;34m)\u001b[0m\u001b[0;34m\u001b[0m\u001b[0;34m\u001b[0m\u001b[0m\n\u001b[0;32m----> 2\u001b[0;31m \u001b[0;32mfor\u001b[0m \u001b[0mi\u001b[0m\u001b[0;34m,\u001b[0m \u001b[0mdata\u001b[0m \u001b[0;32min\u001b[0m \u001b[0menumerate\u001b[0m\u001b[0;34m(\u001b[0m\u001b[0mtestloader\u001b[0m\u001b[0;34m,\u001b[0m \u001b[0;36m0\u001b[0m\u001b[0;34m)\u001b[0m\u001b[0;34m:\u001b[0m\u001b[0;34m\u001b[0m\u001b[0;34m\u001b[0m\u001b[0m\n\u001b[0m\u001b[1;32m      3\u001b[0m     (source_proj, target_proj, source_vol, source_ptv, source_eso, source_sto, source_lungL, source_lungR,\n\u001b[1;32m      4\u001b[0m         \u001b[0msource_spcord\u001b[0m\u001b[0;34m,\u001b[0m\u001b[0mtarget_vol\u001b[0m\u001b[0;34m,\u001b[0m \u001b[0mtarget_ptv\u001b[0m\u001b[0;34m,\u001b[0m \u001b[0mtarget_eso\u001b[0m\u001b[0;34m,\u001b[0m \u001b[0mtarget_sto\u001b[0m\u001b[0;34m,\u001b[0m \u001b[0mtarget_lungL\u001b[0m\u001b[0;34m,\u001b[0m \u001b[0mtarget_lungR\u001b[0m\u001b[0;34m,\u001b[0m \u001b[0mtarget_spcord\u001b[0m\u001b[0;34m,\u001b[0m \u001b[0mangle\u001b[0m\u001b[0;34m)\u001b[0m \u001b[0;34m=\u001b[0m \u001b[0mdata\u001b[0m\u001b[0;34m[\u001b[0m\u001b[0;34m\u001b[0m\u001b[0;34m\u001b[0m\u001b[0m\n\u001b[1;32m      5\u001b[0m         'source_projections'].to(device), \\\n",
      "\u001b[0;32m/usr/lib/python3/dist-packages/torch/utils/data/dataloader.py\u001b[0m in \u001b[0;36m__next__\u001b[0;34m(self)\u001b[0m\n\u001b[1;32m    631\u001b[0m                 \u001b[0;31m# TODO(https://github.com/pytorch/pytorch/issues/76750)\u001b[0m\u001b[0;34m\u001b[0m\u001b[0;34m\u001b[0m\u001b[0m\n\u001b[1;32m    632\u001b[0m                 \u001b[0mself\u001b[0m\u001b[0;34m.\u001b[0m\u001b[0m_reset\u001b[0m\u001b[0;34m(\u001b[0m\u001b[0;34m)\u001b[0m  \u001b[0;31m# type: ignore[call-arg]\u001b[0m\u001b[0;34m\u001b[0m\u001b[0;34m\u001b[0m\u001b[0m\n\u001b[0;32m--> 633\u001b[0;31m             \u001b[0mdata\u001b[0m \u001b[0;34m=\u001b[0m \u001b[0mself\u001b[0m\u001b[0;34m.\u001b[0m\u001b[0m_next_data\u001b[0m\u001b[0;34m(\u001b[0m\u001b[0;34m)\u001b[0m\u001b[0;34m\u001b[0m\u001b[0;34m\u001b[0m\u001b[0m\n\u001b[0m\u001b[1;32m    634\u001b[0m             \u001b[0mself\u001b[0m\u001b[0;34m.\u001b[0m\u001b[0m_num_yielded\u001b[0m \u001b[0;34m+=\u001b[0m \u001b[0;36m1\u001b[0m\u001b[0;34m\u001b[0m\u001b[0;34m\u001b[0m\u001b[0m\n\u001b[1;32m    635\u001b[0m             \u001b[0;32mif\u001b[0m \u001b[0mself\u001b[0m\u001b[0;34m.\u001b[0m\u001b[0m_dataset_kind\u001b[0m \u001b[0;34m==\u001b[0m \u001b[0m_DatasetKind\u001b[0m\u001b[0;34m.\u001b[0m\u001b[0mIterable\u001b[0m \u001b[0;32mand\u001b[0m\u001b[0;31m \u001b[0m\u001b[0;31m\\\u001b[0m\u001b[0;34m\u001b[0m\u001b[0;34m\u001b[0m\u001b[0m\n",
      "\u001b[0;32m/usr/lib/python3/dist-packages/torch/utils/data/dataloader.py\u001b[0m in \u001b[0;36m_next_data\u001b[0;34m(self)\u001b[0m\n\u001b[1;32m    675\u001b[0m     \u001b[0;32mdef\u001b[0m \u001b[0m_next_data\u001b[0m\u001b[0;34m(\u001b[0m\u001b[0mself\u001b[0m\u001b[0;34m)\u001b[0m\u001b[0;34m:\u001b[0m\u001b[0;34m\u001b[0m\u001b[0;34m\u001b[0m\u001b[0m\n\u001b[1;32m    676\u001b[0m         \u001b[0mindex\u001b[0m \u001b[0;34m=\u001b[0m \u001b[0mself\u001b[0m\u001b[0;34m.\u001b[0m\u001b[0m_next_index\u001b[0m\u001b[0;34m(\u001b[0m\u001b[0;34m)\u001b[0m  \u001b[0;31m# may raise StopIteration\u001b[0m\u001b[0;34m\u001b[0m\u001b[0;34m\u001b[0m\u001b[0m\n\u001b[0;32m--> 677\u001b[0;31m         \u001b[0mdata\u001b[0m \u001b[0;34m=\u001b[0m \u001b[0mself\u001b[0m\u001b[0;34m.\u001b[0m\u001b[0m_dataset_fetcher\u001b[0m\u001b[0;34m.\u001b[0m\u001b[0mfetch\u001b[0m\u001b[0;34m(\u001b[0m\u001b[0mindex\u001b[0m\u001b[0;34m)\u001b[0m  \u001b[0;31m# may raise StopIteration\u001b[0m\u001b[0;34m\u001b[0m\u001b[0;34m\u001b[0m\u001b[0m\n\u001b[0m\u001b[1;32m    678\u001b[0m         \u001b[0;32mif\u001b[0m \u001b[0mself\u001b[0m\u001b[0;34m.\u001b[0m\u001b[0m_pin_memory\u001b[0m\u001b[0;34m:\u001b[0m\u001b[0;34m\u001b[0m\u001b[0;34m\u001b[0m\u001b[0m\n\u001b[1;32m    679\u001b[0m             \u001b[0mdata\u001b[0m \u001b[0;34m=\u001b[0m \u001b[0m_utils\u001b[0m\u001b[0;34m.\u001b[0m\u001b[0mpin_memory\u001b[0m\u001b[0;34m.\u001b[0m\u001b[0mpin_memory\u001b[0m\u001b[0;34m(\u001b[0m\u001b[0mdata\u001b[0m\u001b[0;34m,\u001b[0m \u001b[0mself\u001b[0m\u001b[0;34m.\u001b[0m\u001b[0m_pin_memory_device\u001b[0m\u001b[0;34m)\u001b[0m\u001b[0;34m\u001b[0m\u001b[0;34m\u001b[0m\u001b[0m\n",
      "\u001b[0;32m/usr/lib/python3/dist-packages/torch/utils/data/_utils/fetch.py\u001b[0m in \u001b[0;36mfetch\u001b[0;34m(self, possibly_batched_index)\u001b[0m\n\u001b[1;32m     49\u001b[0m                 \u001b[0mdata\u001b[0m \u001b[0;34m=\u001b[0m \u001b[0mself\u001b[0m\u001b[0;34m.\u001b[0m\u001b[0mdataset\u001b[0m\u001b[0;34m.\u001b[0m\u001b[0m__getitems__\u001b[0m\u001b[0;34m(\u001b[0m\u001b[0mpossibly_batched_index\u001b[0m\u001b[0;34m)\u001b[0m\u001b[0;34m\u001b[0m\u001b[0;34m\u001b[0m\u001b[0m\n\u001b[1;32m     50\u001b[0m             \u001b[0;32melse\u001b[0m\u001b[0;34m:\u001b[0m\u001b[0;34m\u001b[0m\u001b[0;34m\u001b[0m\u001b[0m\n\u001b[0;32m---> 51\u001b[0;31m                 \u001b[0mdata\u001b[0m \u001b[0;34m=\u001b[0m \u001b[0;34m[\u001b[0m\u001b[0mself\u001b[0m\u001b[0;34m.\u001b[0m\u001b[0mdataset\u001b[0m\u001b[0;34m[\u001b[0m\u001b[0midx\u001b[0m\u001b[0;34m]\u001b[0m \u001b[0;32mfor\u001b[0m \u001b[0midx\u001b[0m \u001b[0;32min\u001b[0m \u001b[0mpossibly_batched_index\u001b[0m\u001b[0;34m]\u001b[0m\u001b[0;34m\u001b[0m\u001b[0;34m\u001b[0m\u001b[0m\n\u001b[0m\u001b[1;32m     52\u001b[0m         \u001b[0;32melse\u001b[0m\u001b[0;34m:\u001b[0m\u001b[0;34m\u001b[0m\u001b[0;34m\u001b[0m\u001b[0m\n\u001b[1;32m     53\u001b[0m             \u001b[0mdata\u001b[0m \u001b[0;34m=\u001b[0m \u001b[0mself\u001b[0m\u001b[0;34m.\u001b[0m\u001b[0mdataset\u001b[0m\u001b[0;34m[\u001b[0m\u001b[0mpossibly_batched_index\u001b[0m\u001b[0;34m]\u001b[0m\u001b[0;34m\u001b[0m\u001b[0;34m\u001b[0m\u001b[0m\n",
      "\u001b[0;32m/usr/lib/python3/dist-packages/torch/utils/data/_utils/fetch.py\u001b[0m in \u001b[0;36m<listcomp>\u001b[0;34m(.0)\u001b[0m\n\u001b[1;32m     49\u001b[0m                 \u001b[0mdata\u001b[0m \u001b[0;34m=\u001b[0m \u001b[0mself\u001b[0m\u001b[0;34m.\u001b[0m\u001b[0mdataset\u001b[0m\u001b[0;34m.\u001b[0m\u001b[0m__getitems__\u001b[0m\u001b[0;34m(\u001b[0m\u001b[0mpossibly_batched_index\u001b[0m\u001b[0;34m)\u001b[0m\u001b[0;34m\u001b[0m\u001b[0;34m\u001b[0m\u001b[0m\n\u001b[1;32m     50\u001b[0m             \u001b[0;32melse\u001b[0m\u001b[0;34m:\u001b[0m\u001b[0;34m\u001b[0m\u001b[0;34m\u001b[0m\u001b[0m\n\u001b[0;32m---> 51\u001b[0;31m                 \u001b[0mdata\u001b[0m \u001b[0;34m=\u001b[0m \u001b[0;34m[\u001b[0m\u001b[0mself\u001b[0m\u001b[0;34m.\u001b[0m\u001b[0mdataset\u001b[0m\u001b[0;34m[\u001b[0m\u001b[0midx\u001b[0m\u001b[0;34m]\u001b[0m \u001b[0;32mfor\u001b[0m \u001b[0midx\u001b[0m \u001b[0;32min\u001b[0m \u001b[0mpossibly_batched_index\u001b[0m\u001b[0;34m]\u001b[0m\u001b[0;34m\u001b[0m\u001b[0;34m\u001b[0m\u001b[0m\n\u001b[0m\u001b[1;32m     52\u001b[0m         \u001b[0;32melse\u001b[0m\u001b[0;34m:\u001b[0m\u001b[0;34m\u001b[0m\u001b[0;34m\u001b[0m\u001b[0m\n\u001b[1;32m     53\u001b[0m             \u001b[0mdata\u001b[0m \u001b[0;34m=\u001b[0m \u001b[0mself\u001b[0m\u001b[0;34m.\u001b[0m\u001b[0mdataset\u001b[0m\u001b[0;34m[\u001b[0m\u001b[0mpossibly_batched_index\u001b[0m\u001b[0;34m]\u001b[0m\u001b[0;34m\u001b[0m\u001b[0;34m\u001b[0m\u001b[0m\n",
      "\u001b[0;32m/tmp/ipykernel_215128/3025823370.py\u001b[0m in \u001b[0;36m__getitem__\u001b[0;34m(self, idx)\u001b[0m\n\u001b[1;32m     56\u001b[0m         \u001b[0;31m# Find target contours\u001b[0m\u001b[0;34m\u001b[0m\u001b[0;34m\u001b[0m\u001b[0m\n\u001b[1;32m     57\u001b[0m         \u001b[0mvol_name\u001b[0m \u001b[0;34m=\u001b[0m \u001b[0mos\u001b[0m\u001b[0;34m.\u001b[0m\u001b[0mpath\u001b[0m\u001b[0;34m.\u001b[0m\u001b[0mjoin\u001b[0m\u001b[0;34m(\u001b[0m\u001b[0mself\u001b[0m\u001b[0;34m.\u001b[0m\u001b[0mim_dir\u001b[0m\u001b[0;34m,\u001b[0m \u001b[0mformat\u001b[0m\u001b[0;34m(\u001b[0m\u001b[0;34m'Target_'\u001b[0m \u001b[0;34m+\u001b[0m \u001b[0mtarget_file\u001b[0m\u001b[0;34m[\u001b[0m\u001b[0;36m5\u001b[0m\u001b[0;34m:\u001b[0m\u001b[0;36m10\u001b[0m\u001b[0;34m]\u001b[0m \u001b[0;34m+\u001b[0m \u001b[0;34m'_mha.npy'\u001b[0m\u001b[0;34m)\u001b[0m\u001b[0;34m)\u001b[0m\u001b[0;34m\u001b[0m\u001b[0;34m\u001b[0m\u001b[0m\n\u001b[0;32m---> 58\u001b[0;31m         \u001b[0mtarget_ptv\u001b[0m \u001b[0;34m=\u001b[0m \u001b[0mnp\u001b[0m\u001b[0;34m.\u001b[0m\u001b[0mload\u001b[0m\u001b[0;34m(\u001b[0m\u001b[0mvol_name\u001b[0m\u001b[0;34m)\u001b[0m\u001b[0;34m\u001b[0m\u001b[0;34m\u001b[0m\u001b[0m\n\u001b[0m\u001b[1;32m     59\u001b[0m \u001b[0;34m\u001b[0m\u001b[0m\n\u001b[1;32m     60\u001b[0m         \u001b[0mvol_name\u001b[0m \u001b[0;34m=\u001b[0m \u001b[0mos\u001b[0m\u001b[0;34m.\u001b[0m\u001b[0mpath\u001b[0m\u001b[0;34m.\u001b[0m\u001b[0mjoin\u001b[0m\u001b[0;34m(\u001b[0m\u001b[0mself\u001b[0m\u001b[0;34m.\u001b[0m\u001b[0mim_dir\u001b[0m\u001b[0;34m,\u001b[0m \u001b[0mformat\u001b[0m\u001b[0;34m(\u001b[0m\u001b[0;34m'Eso_'\u001b[0m \u001b[0;34m+\u001b[0m \u001b[0mtarget_file\u001b[0m\u001b[0;34m[\u001b[0m\u001b[0;36m5\u001b[0m\u001b[0;34m:\u001b[0m\u001b[0;36m10\u001b[0m\u001b[0;34m]\u001b[0m \u001b[0;34m+\u001b[0m \u001b[0;34m'_mha.npy'\u001b[0m\u001b[0;34m)\u001b[0m\u001b[0;34m)\u001b[0m\u001b[0;34m\u001b[0m\u001b[0;34m\u001b[0m\u001b[0m\n",
      "\u001b[0;32m~/.local/lib/python3.10/site-packages/numpy/lib/npyio.py\u001b[0m in \u001b[0;36mload\u001b[0;34m(file, mmap_mode, allow_pickle, fix_imports, encoding, max_header_size)\u001b[0m\n\u001b[1;32m    425\u001b[0m             \u001b[0mown_fid\u001b[0m \u001b[0;34m=\u001b[0m \u001b[0;32mFalse\u001b[0m\u001b[0;34m\u001b[0m\u001b[0;34m\u001b[0m\u001b[0m\n\u001b[1;32m    426\u001b[0m         \u001b[0;32melse\u001b[0m\u001b[0;34m:\u001b[0m\u001b[0;34m\u001b[0m\u001b[0;34m\u001b[0m\u001b[0m\n\u001b[0;32m--> 427\u001b[0;31m             \u001b[0mfid\u001b[0m \u001b[0;34m=\u001b[0m \u001b[0mstack\u001b[0m\u001b[0;34m.\u001b[0m\u001b[0menter_context\u001b[0m\u001b[0;34m(\u001b[0m\u001b[0mopen\u001b[0m\u001b[0;34m(\u001b[0m\u001b[0mos_fspath\u001b[0m\u001b[0;34m(\u001b[0m\u001b[0mfile\u001b[0m\u001b[0;34m)\u001b[0m\u001b[0;34m,\u001b[0m \u001b[0;34m\"rb\"\u001b[0m\u001b[0;34m)\u001b[0m\u001b[0;34m)\u001b[0m\u001b[0;34m\u001b[0m\u001b[0;34m\u001b[0m\u001b[0m\n\u001b[0m\u001b[1;32m    428\u001b[0m             \u001b[0mown_fid\u001b[0m \u001b[0;34m=\u001b[0m \u001b[0;32mTrue\u001b[0m\u001b[0;34m\u001b[0m\u001b[0;34m\u001b[0m\u001b[0m\n\u001b[1;32m    429\u001b[0m \u001b[0;34m\u001b[0m\u001b[0m\n",
      "\u001b[0;31mFileNotFoundError\u001b[0m: [Errno 2] No such file or directory: 'data/xcat/test/Target_0001__mha.npy'"
     ]
    }
   ],
   "source": [
    "print('Testing...')\n",
    "for i, data in enumerate(testloader, 0):\n",
    "    (source_proj, target_proj, source_vol, source_ptv, source_eso, source_sto, source_lungL, source_lungR,\n",
    "        source_spcord,target_vol, target_ptv, target_eso, target_sto, target_lungL, target_lungR, target_spcord, angle) = data[\n",
    "        'source_projections'].to(device), \\\n",
    "        data['target_projections'].to(device), \\\n",
    "        data['source_volumes'].to(device), \\\n",
    "        data['source_ptvs'].to(device), \\\n",
    "        data['source_esophagus'].to(device), \\\n",
    "        data['source_stomach'].to(device), \\\n",
    "        data['source_lungsL'].to(device), \\\n",
    "        data['source_lungsR'].to(device), \\\n",
    "        data['source_spinalcord'].to(device), \\\n",
    "        data['target_volumes'].to(device), \\\n",
    "        data['target_ptvs'].to(device), \\\n",
    "        data['target_esophagus'].to(device), \\\n",
    "        data['target_stomach'].to(device), \\\n",
    "        data['target_lungsL'].to(device), \\\n",
    "        data['target_lungsR'].to(device), \\\n",
    "        data['target_spinalcord'].to(device), \\\n",
    "        data['angle'].to(device)\n",
    "\n",
    "    predict_ptv, predict_flow = vxm_model.forward(source_proj, target_proj, source_ptv)\n",
    "\n",
    "    lr, si, ap = centroid_ptv.loss(target_ptv)\n",
    "\n",
    "    # convert to mm (to account for subsampling)\n",
    "    lr = 4 * lr\n",
    "    si = 2 * si\n",
    "    ap = 4 * ap\n",
    "\n",
    "    tar_lr.append(lr)\n",
    "    tar_si.append(si)\n",
    "    tar_ap.append(ap)\n",
    "\n",
    "    lr, si, ap = centroid_ptv.loss(predict_ptv)\n",
    "\n",
    "    # convert to mm (to account for subsampling)\n",
    "    lr = 4 * lr\n",
    "    si = 2 * si\n",
    "    ap = 4 * ap\n",
    "\n",
    "    pred_lr.append(lr)\n",
    "    pred_si.append(si)\n",
    "    pred_ap.append(ap)\n",
    "\n",
    "    # compute and save dice similarity\n",
    "    dice_sim = dice.loss(target_ptv, predict_ptv)\n",
    "    test_dice.append(dice_sim.item())\n",
    "\n",
    "    # compute and save Jacobian violation ratio\n",
    "    disp = np.zeros((im_size, im_size, im_size, 3), dtype=np.float32)\n",
    "    metric_flows = np.squeeze(predict_flow.detach().cpu().numpy())\n",
    "    disp[:, :, :, 0] = metric_flows[0, :, :, :]\n",
    "    disp[:, :, :, 1] = metric_flows[1, :, :, :]\n",
    "    disp[:, :, :, 2] = metric_flows[2, :, :, :]\n",
    "    detJ = jacobian_determinant.loss(disp)\n",
    "    detJ = sum(i <= 0 for i in detJ.flatten()) / detJ.size\n",
    "    test_detJ.append(detJ.item())\n",
    "\n",
    "    # save gantry angle\n",
    "    test_angles.append(angle.item())\n",
    "\n",
    "    # warp images\n",
    "    predict_vol = transformer.forward(source_vol, predict_flow)\n",
    "\n",
    "    # detach images from GPU\n",
    "    metric_input = target_vol.cpu().detach().numpy()\n",
    "    metric_input = metric_input.flatten()\n",
    "    metric_pred = predict_vol.cpu().detach().numpy()\n",
    "    metric_pred = metric_pred.flatten()\n",
    "\n",
    "    mse_loss = np.sqrt(np.mean(np.square((metric_input.ravel() - metric_pred.ravel()))))\n",
    "    ssim_loss = ssim(metric_input, metric_pred, data_range=np.max(metric_pred) - np.min(metric_pred))\n",
    "    psnr_loss = psnr(metric_input, metric_pred)\n",
    "\n",
    "    test_mse.append(mse_loss)\n",
    "    test_ssim.append(ssim_loss)\n",
    "    test_psnr.append(psnr_loss)\n",
    "\n",
    "    # stomach\n",
    "    predict_sto = transformer.forward(source_sto, predict_flow)\n",
    "    dice_sim = dice.loss(target_sto, predict_sto)\n",
    "    stomach_dice.append(dice_sim.item())\n",
    "\n",
    "    # esophagus\n",
    "    predict_eso = transformer.forward(source_eso, predict_flow)\n",
    "    dice_sim = dice.loss(target_eso, predict_eso)\n",
    "    esophagus_dice.append(dice_sim.item())\n",
    "\n",
    "    # lungL\n",
    "    predict_lungL = transformer.forward(source_lungL, predict_flow)\n",
    "    dice_sim = dice.loss(target_lungL, predict_lungL)\n",
    "    lungL_dice.append(dice_sim.item())\n",
    "\n",
    "    # lungR\n",
    "    predict_lungR = transformer.forward(source_lungR, predict_flow)\n",
    "    dice_sim = dice.loss(target_lungR, predict_lungR)\n",
    "    lungR_dice.append(dice_sim.item())\n",
    "\n",
    "    # spinal cord\n",
    "    predict_spcord = transformer.forward(source_spcord, predict_flow)\n",
    "    dice_sim = dice.loss(target_spcord, predict_spcord)\n",
    "    spinalcord_dice.append(dice_sim.item())\n",
    "\n",
    "    if i % 10 == 0:\n",
    "        print(str(i) + ' of ' + str(len(testloader)))"
   ]
  },
  {
   "cell_type": "markdown",
   "id": "247f1788",
   "metadata": {},
   "source": [
    "Let's save the results in a directory called 'plots'"
   ]
  },
  {
   "cell_type": "code",
   "execution_count": 41,
   "id": "39fe8b31",
   "metadata": {},
   "outputs": [],
   "source": [
    "if not os.path.exists('plots/' + expt_file):\n",
    "    os.mkdir('plots/' + expt_file)\n",
    "\n",
    "# save target metrics\n",
    "np.save('plots/' + expt_file + '/' + 'test_angles', test_angles)\n",
    "np.save('plots/' + expt_file + '/' + 'tar_lr (mm)', tar_lr)\n",
    "np.save('plots/' + expt_file + '/' + 'tar_si (mm)', tar_si)\n",
    "np.save('plots/' + expt_file + '/' + 'tar_ap (mm)', tar_ap)\n",
    "np.save('plots/' + expt_file + '/' + 'pred_lr (mm)', pred_lr)\n",
    "np.save('plots/' + expt_file + '/' + 'pred_si (mm)', pred_si)\n",
    "np.save('plots/' + expt_file + '/' + 'pred_ap (mm)', pred_ap)\n",
    "np.save('plots/' + expt_file + '/' + 'test_dice', test_dice)\n",
    "np.save('plots/' + expt_file + '/' + 'test_detJ', test_detJ)\n",
    "\n",
    "# save OAR metrics\n",
    "np.save('plots/' + expt_file + '/' + 'stomach_dice', stomach_dice)\n",
    "np.save('plots/' + expt_file + '/' + 'esophagus_dice', esophagus_dice)\n",
    "np.save('plots/' + expt_file + '/' + 'lungL_dice', lungL_dice)\n",
    "np.save('plots/' + expt_file + '/' + 'lungR_dice', lungR_dice)\n",
    "np.save('plots/' + expt_file + '/' + 'spinalcord_dice', spinalcord_dice)\n",
    "\n",
    "# save image metrics\n",
    "np.save('plots/' + expt_file + '/' + 'test_mse', test_mse)\n",
    "np.save('plots/' + expt_file + '/' + 'test_ssim', test_ssim)\n",
    "np.save('plots/' + expt_file + '/' + 'test_psnr', test_psnr)"
   ]
  },
  {
   "cell_type": "markdown",
   "id": "131b2913",
   "metadata": {},
   "source": [
    "Lastly, we'll print the results and generate a tracking plot for the centroid positions, et voila! I hope you enjoy using Voxelmap. We have started a Discussion section on the Github repository to hear about your experiences."
   ]
  },
  {
   "cell_type": "code",
   "execution_count": 42,
   "id": "adc2ec09",
   "metadata": {},
   "outputs": [
    {
     "ename": "TypeError",
     "evalue": "unsupported operand type(s) for -: 'list' and 'list'",
     "output_type": "error",
     "traceback": [
      "\u001b[0;31m---------------------------------------------------------------------------\u001b[0m",
      "\u001b[0;31mTypeError\u001b[0m                                 Traceback (most recent call last)",
      "\u001b[0;32m/tmp/ipykernel_215128/3423586497.py\u001b[0m in \u001b[0;36m<module>\u001b[0;34m\u001b[0m\n\u001b[1;32m      1\u001b[0m \u001b[0;31m# print results\u001b[0m\u001b[0;34m\u001b[0m\u001b[0;34m\u001b[0m\u001b[0m\n\u001b[0;32m----> 2\u001b[0;31m \u001b[0mdx\u001b[0m \u001b[0;34m=\u001b[0m \u001b[0mtar_lr\u001b[0m \u001b[0;34m-\u001b[0m \u001b[0mpred_lr\u001b[0m\u001b[0;34m\u001b[0m\u001b[0;34m\u001b[0m\u001b[0m\n\u001b[0m\u001b[1;32m      3\u001b[0m \u001b[0mdy\u001b[0m \u001b[0;34m=\u001b[0m \u001b[0mtar_si\u001b[0m \u001b[0;34m-\u001b[0m \u001b[0mpred_si\u001b[0m\u001b[0;34m\u001b[0m\u001b[0;34m\u001b[0m\u001b[0m\n\u001b[1;32m      4\u001b[0m \u001b[0mdz\u001b[0m \u001b[0;34m=\u001b[0m \u001b[0mtar_ap\u001b[0m \u001b[0;34m-\u001b[0m \u001b[0mpred_ap\u001b[0m\u001b[0;34m\u001b[0m\u001b[0;34m\u001b[0m\u001b[0m\n\u001b[1;32m      5\u001b[0m \u001b[0;34m\u001b[0m\u001b[0m\n",
      "\u001b[0;31mTypeError\u001b[0m: unsupported operand type(s) for -: 'list' and 'list'"
     ]
    }
   ],
   "source": [
    "# print results\n",
    "dx = tar_lr - pred_lr\n",
    "dy = tar_si - pred_si\n",
    "dz = tar_ap - pred_ap\n",
    "\n",
    "print('[PTV Dice: %.2f ± %.2f' % (np.mean(test_dice), np.std(test_dice)) +\n",
    "    ' | LR: %.1f ± %.1f' % (np.mean(dx), np.std(dx)) +\n",
    "    ' | SI : %.1f ± %.1f' % (np.mean(dy), np.std(dy)) +\n",
    "    ' | AP : %.1f ± %.1f' % (np.mean(dz), np.std(dz)) +\n",
    "    ' | 3D : %.1f ± %.1f' % (np.mean(np.sqrt(dx**2 + dy**2 + dz**2)), np.std(np.sqrt(dx**2 + dy**2 + dz**2))) +\n",
    "    ' | detJ: %.0E' % (np.mean(test_detJ)) + ']')\n",
    "\n",
    "print('[Target DSC: %.2f ± %.2f' % (np.mean(test_dice), np.std(test_dice)) +\n",
    "    ' | Stomach DSC: %.2f ± %.2f' % (np.mean(stomach_dice), np.std(stomach_dice)) +\n",
    "    ' | Esophagus DSC: %.2f ± %.2f' % (np.mean(esophagus_dice), np.std(esophagus_dice)) +\n",
    "    ' | Lung L DSC: %.2f ± %.2f' % (np.mean(lungL_dice), np.std(lungL_dice)) +\n",
    "    ' | Lung R DSC: %.2f ± %.2f' % (np.mean(lungR_dice), np.std(lungR_dice)) +\n",
    "    ' | Spinal cord DSC: %.2f ± %.2f' % (np.mean(spinalcord_dice), np.std(spinalcord_dice)) + ']')\n",
    "\n",
    "print('[RMSE: %.2f ± %.2f' % (np.mean(test_mse), np.std(test_mse)) +\n",
    "    ' | SSIM: %.2f ± %.2f' % (np.mean(test_ssim), np.std(test_ssim)) +\n",
    "    ' | PSNR: %.1f ± %.1f' % (np.mean(test_psnr), np.std(test_psnr)) +']')\n",
    "\n",
    "# plot centroid traces\n",
    "tar_lr = tar_lr - np.mean(tar_lr)\n",
    "tar_lr = [tar_lr for _, tar_lr in sorted(zip(test_angles, tar_lr))]\n",
    "tar_si = tar_si - np.mean(tar_si)\n",
    "tar_si = [tar_si for _, tar_si in sorted(zip(test_angles, tar_si))]\n",
    "tar_ap = tar_ap - np.mean(tar_ap)\n",
    "tar_ap = [tar_ap for _, tar_ap in sorted(zip(test_angles, tar_ap))]\n",
    "\n",
    "pred_lr = pred_lr - np.mean(pred_lr)\n",
    "pred_lr = [pred_lr for _, pred_lr in sorted(zip(test_angles, pred_lr))]\n",
    "pred_si = pred_si - np.mean(pred_si)\n",
    "pred_si = [pred_si for _, pred_si in sorted(zip(test_angles, pred_si))]\n",
    "pred_ap = pred_ap - np.mean(pred_ap)\n",
    "pred_ap = [pred_ap for _, pred_ap in sorted(zip(test_angles, pred_ap))]\n",
    "\n",
    "test_angles = sorted(test_angles)\n",
    "\n",
    "f = plt.figure()\n",
    "f.add_subplot(3, 1, 1)\n",
    "plt.plot(test_angles, tar_lr)\n",
    "plt.plot(test_angles, pred_lr)\n",
    "plt.xlabel('Angle (degrees)')\n",
    "plt.ylabel('LR position\\n(mm)')\n",
    "plt.title('XCAT - Patient 1')\n",
    "plt.legend(['Ground-truth', 'Prediction'], loc='upper right')\n",
    "plt.ylim([-6, 8])\n",
    "plt.xlim([0, 360])\n",
    "plt.xticks([0, 30, 60, 90, 120, 150, 180, 210, 240, 270, 300, 330, 360])\n",
    "\n",
    "f.add_subplot(3, 1, 2)\n",
    "plt.plot(test_angles, tar_si)\n",
    "plt.plot(test_angles, pred_si)\n",
    "plt.xlabel('Angle (degrees)')\n",
    "plt.ylabel('SI position\\n(mm)')\n",
    "plt.legend(['Ground-truth', 'Prediction'], loc='upper right')\n",
    "plt.ylim([-6, 8])\n",
    "plt.xlim([0, 360])\n",
    "plt.xticks([0, 30, 60, 90, 120, 150, 180, 210, 240, 270, 300, 330, 360])\n",
    "\n",
    "f.add_subplot(3, 1, 3)\n",
    "plt.plot(test_angles, tar_ap)\n",
    "plt.plot(test_angles, pred_ap)\n",
    "plt.xlabel('Angle (degrees)')\n",
    "plt.ylabel('AP position\\n(mm)')\n",
    "plt.legend(['Ground-truth', 'Prediction'], loc='upper right')\n",
    "plt.ylim([-6, 8])\n",
    "plt.xlim([0, 360])\n",
    "plt.xticks([0, 30, 60, 90, 120, 150, 180, 210, 240, 270, 300, 330, 360])\n",
    "\n",
    "plt.savefig('plots/' + expt_file + 'centroid_trace.png')\n",
    "plt.show()"
   ]
  }
 ],
 "metadata": {
  "kernelspec": {
   "display_name": "Python 3 (ipykernel)",
   "language": "python",
   "name": "python3"
  },
  "language_info": {
   "codemirror_mode": {
    "name": "ipython",
    "version": 3
   },
   "file_extension": ".py",
   "mimetype": "text/x-python",
   "name": "python",
   "nbconvert_exporter": "python",
   "pygments_lexer": "ipython3",
   "version": "3.10.12"
  }
 },
 "nbformat": 4,
 "nbformat_minor": 5
}
